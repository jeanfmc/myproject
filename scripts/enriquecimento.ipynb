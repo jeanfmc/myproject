{
 "cells": [
  {
   "cell_type": "code",
   "execution_count": 1,
   "metadata": {},
   "outputs": [],
   "source": [
    "import duckdb"
   ]
  },
  {
   "cell_type": "code",
   "execution_count": 2,
   "metadata": {},
   "outputs": [],
   "source": [
    "con = duckdb.connect(database='dados_duckdb.db', read_only=False)"
   ]
  },
  {
   "cell_type": "code",
   "execution_count": null,
   "metadata": {},
   "outputs": [],
   "source": [
    "df = con.execute(\"\"\"\n",
    "                 SELECT * \n",
    "                 FROM (\n",
    "                    SELECT *, ROW_NUMBER() OVER (PARTITION BY NATBR ORDER BY data_ingestao DESC) AS row\n",
    "                    FROM bronze_z0019\n",
    "                    WHERE data_ingestao >= '2025-01-11'\n",
    "                ) WHERE row = 1\n",
    "                 \"\"\").fetchdf()\n",
    "df.head(10)"
   ]
  },
  {
   "cell_type": "code",
   "execution_count": null,
   "metadata": {},
   "outputs": [],
   "source": [
    "df_final = df.drop(columns=['nome_arquivo', 'data_ingestao', 'row'])\n",
    "df_final = df_final.rename(columns={\"NATBR\":\"id\"})\n",
    "df_final = df_final.rename(columns={\"MAKTX\":\"nm_produto\"})\n",
    "df_final = df_final.rename(columns={\"WERKS\":\"id_categoria\"})\n",
    "df_final = df_final.rename(columns={\"MAINS\":\"id_fornecedor\"})\n",
    "df_final = df_final.rename(columns={\"LABST\":\"vl_preco\"})\n",
    "df_final.head(10)"
   ]
  },
  {
   "cell_type": "code",
   "execution_count": null,
   "metadata": {},
   "outputs": [],
   "source": [
    "df_final.dtypes"
   ]
  },
  {
   "cell_type": "code",
   "execution_count": null,
   "metadata": {},
   "outputs": [],
   "source": [
    "df2 = df_final\n",
    "df2 = df2.astype(\n",
    "    {\n",
    "        'id': int,\n",
    "        'nm_produto': str,\n",
    "        'id_categoria': str,\n",
    "        'id_fornecedor': int,\n",
    "        'vl_preco': float\n",
    "    }\n",
    ")\n",
    "\n",
    "df2.dtypes\n"
   ]
  },
  {
   "cell_type": "code",
   "execution_count": null,
   "metadata": {},
   "outputs": [],
   "source": [
    "con.execute(\"\"\"\n",
    "CREATE TABLE IF NOT EXISTS produtos (\n",
    "            id BIGINT,\n",
    "            nm_produto TEXT,\n",
    "            id_categoria TEXT,\n",
    "            id_fornecedor BIGINT,\n",
    "            vl_preco FLOAT\n",
    "            )\n",
    "\"\"\")"
   ]
  },
  {
   "cell_type": "code",
   "execution_count": null,
   "metadata": {},
   "outputs": [],
   "source": [
    "df2.head(10)"
   ]
  },
  {
   "cell_type": "code",
   "execution_count": null,
   "metadata": {},
   "outputs": [],
   "source": [
    "con.execute(\"INSERT INTO produtos SELECT * from df2\")"
   ]
  },
  {
   "cell_type": "code",
   "execution_count": null,
   "metadata": {},
   "outputs": [],
   "source": [
    "df_resultado = con.execute(\"select * from produtos\").fetchdf()\n",
    "df_resultado.head(10)"
   ]
  },
  {
   "cell_type": "code",
   "execution_count": 32,
   "metadata": {},
   "outputs": [],
   "source": [
    "con.close()"
   ]
  },
  {
   "cell_type": "code",
   "execution_count": null,
   "metadata": {},
   "outputs": [],
   "source": []
  }
 ],
 "metadata": {
  "kernelspec": {
   "display_name": "Python 3",
   "language": "python",
   "name": "python3"
  },
  "language_info": {
   "codemirror_mode": {
    "name": "ipython",
    "version": 3
   },
   "file_extension": ".py",
   "mimetype": "text/x-python",
   "name": "python",
   "nbconvert_exporter": "python",
   "pygments_lexer": "ipython3",
   "version": "3.12.6"
  }
 },
 "nbformat": 4,
 "nbformat_minor": 2
}
